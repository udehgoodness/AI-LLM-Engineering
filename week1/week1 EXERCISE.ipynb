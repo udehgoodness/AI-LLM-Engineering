{
 "cells": [
  {
   "cell_type": "markdown",
   "id": "fe12c203-e6a6-452c-a655-afb8a03a4ff5",
   "metadata": {},
   "source": [
    "# End of week 1 exercise\n",
    "\n",
    "To demonstrate your familiarity with OpenAI API, and also Ollama, build a tool that takes a technical question,  \n",
    "and responds with an explanation. This is a tool that you will be able to use yourself during the course!"
   ]
  },
  {
   "cell_type": "code",
   "execution_count": 1,
   "id": "c1070317-3ed9-4659-abe3-828943230e03",
   "metadata": {},
   "outputs": [],
   "source": [
    "# imports\n",
    "import os\n",
    "import requests\n",
    "import json\n",
    "from typing import List\n",
    "from dotenv import load_dotenv\n",
    "from bs4 import BeautifulSoup\n",
    "from IPython.display import Markdown, display, update_display\n",
    "from openai import OpenAI"
   ]
  },
  {
   "cell_type": "code",
   "execution_count": 2,
   "id": "4a456906-915a-4bfd-bb9d-57e505c5093f",
   "metadata": {},
   "outputs": [],
   "source": [
    "# constants\n",
    "\n",
    "MODEL_GPT = 'gpt-4o-mini'\n",
    "MODEL_LLAMA = 'llama3.2'\n",
    "load_dotenv(override=True)\n",
    "api_key = os.getenv('OPENAI_API_KEY')\n",
    "openai = OpenAI()"
   ]
  },
  {
   "cell_type": "code",
   "execution_count": 3,
   "id": "373e2ad4-b96f-4f5d-98b0-dee154ecc3e0",
   "metadata": {},
   "outputs": [],
   "source": [
    "# here is the question; type over this to ask something new\n",
    "\n",
    "question = \"\"\"\n",
    "Please explain what this code does and why:\n",
    "yield from {book.get(\"author\") for book in books if book.get(\"author\")}\n",
    "\"\"\""
   ]
  },
  {
   "cell_type": "code",
   "execution_count": 4,
   "id": "a8d7923c-5f28-4c30-8556-342d7c8497c1",
   "metadata": {},
   "outputs": [],
   "source": [
    "# set up environment\n",
    "\n",
    "system_prompt = \"You are Technical tutor. \\\n",
    "You are able to take a technical question and respond with explanation and example if needed. \\n\"\n",
    "system_prompt += \"Your answer should be short and straight to the point\""
   ]
  },
  {
   "cell_type": "code",
   "execution_count": 5,
   "id": "e4b29ed1-2dd9-4aff-8a68-93859c1c9903",
   "metadata": {},
   "outputs": [],
   "source": [
    "user_prompt = \"Please check the question \\\n",
    "Think technically, and analyize the question and give answers to the question\""
   ]
  },
  {
   "cell_type": "code",
   "execution_count": 36,
   "id": "60ce7000-a4a5-4cce-a261-e75ef45063b4",
   "metadata": {},
   "outputs": [],
   "source": [
    "# Get gpt-4o-mini to answer, with streaming\n",
    "\n",
    "def get_answer(question):\n",
    "    stream = openai.chat.completions.create(\n",
    "        model=MODEL_GPT,\n",
    "        messages=[\n",
    "            {\"role\": \"system\", \"content\": system_prompt},\n",
    "            {\"role\": \"user\", \"content\": question}\n",
    "          ],\n",
    "        stream=True\n",
    "    )\n",
    "    \n",
    "    response = \"\"\n",
    "    display_handle = display(Markdown(\"\"), display_id=True)\n",
    "    for chunk in stream:\n",
    "        response += chunk.choices[0].delta.content or ''\n",
    "        \n",
    "        formatted_response = response.replace(\"\\\\n\", \"\\n\").strip()\n",
    "        formatted_response = formatted_response.replace(\"```python\", \"```\\n```python\").replace(\"```\", \"```\\n```\")\n",
    "        formatted_response = formatted_response.replace(\"\\n```\\n```\\n\", \"\\n\")\n",
    "        display_handle.update(Markdown(formatted_response))\n",
    "\n",
    "    return formatted_response  # Return final response if needed"
   ]
  },
  {
   "cell_type": "code",
   "execution_count": 37,
   "id": "2feb6f4c-73bb-4b0d-a551-7fae36b2904e",
   "metadata": {},
   "outputs": [],
   "source": [
    "question = \"\"\"\n",
    "Please explain what this code does and why:\n",
    "yield from {book.get(\"author\") for book in books if book.get(\"author\")}\n",
    "\"\"\""
   ]
  },
  {
   "cell_type": "code",
   "execution_count": 38,
   "id": "9b041705-d17b-4258-bbc6-f16b7f974137",
   "metadata": {},
   "outputs": [
    {
     "data": {
      "text/markdown": [
       "This code uses a generator expression combined with `yield from` to yield authors of books from a collection called `books`. \n",
       "\n",
       "Here’s a breakdown of what it does:\n",
       "\n",
       "1. **Set Comprehension**: `{book.get(\"author\") for book in books if book.get(\"author\")}` creates a set of unique authors. It iterates through each `book` in the `books` collection and retrieves the author via `book.get(\"author\")`. The condition `if book.get(\"author\")` ensures that only books with an author are considered, avoiding `None` or empty values.\n",
       "\n",
       "2. **Yield from**: The `yield from` statement is used to yield all values from the set generated above. This allows for the individual authors to be returned from the generator function that contains this code.\n",
       "\n",
       "**Example**:\n",
       "Given the following list of books:\n",
       "```\n",
       "```python\n",
       "books = [\n",
       "    {\"title\": \"Book 1\", \"author\": \"Author A\"},\n",
       "    {\"title\": \"Book 2\", \"author\": \"Author B\"},\n",
       "    {\"title\": \"Book 3\", \"author\": None},\n",
       "    {\"title\": \"Book 4\"},  # No author key\n",
       "    {\"title\": \"Book 5\", \"author\": \"Author A\"},\n",
       "]\n",
       "\n",
       "The code would yield:\n",
       "- \"Author A\"\n",
       "- \"Author B\"\n",
       "\n",
       "Each author will only appear once in the output due to the use of a set. Thus, this code effectively filters and yields unique authors from a collection of books."
      ],
      "text/plain": [
       "<IPython.core.display.Markdown object>"
      ]
     },
     "metadata": {},
     "output_type": "display_data"
    },
    {
     "data": {
      "text/plain": [
       "'This code uses a generator expression combined with `yield from` to yield authors of books from a collection called `books`. \\n\\nHere’s a breakdown of what it does:\\n\\n1. **Set Comprehension**: `{book.get(\"author\") for book in books if book.get(\"author\")}` creates a set of unique authors. It iterates through each `book` in the `books` collection and retrieves the author via `book.get(\"author\")`. The condition `if book.get(\"author\")` ensures that only books with an author are considered, avoiding `None` or empty values.\\n\\n2. **Yield from**: The `yield from` statement is used to yield all values from the set generated above. This allows for the individual authors to be returned from the generator function that contains this code.\\n\\n**Example**:\\nGiven the following list of books:\\n```\\n```python\\nbooks = [\\n    {\"title\": \"Book 1\", \"author\": \"Author A\"},\\n    {\"title\": \"Book 2\", \"author\": \"Author B\"},\\n    {\"title\": \"Book 3\", \"author\": None},\\n    {\"title\": \"Book 4\"},  # No author key\\n    {\"title\": \"Book 5\", \"author\": \"Author A\"},\\n]\\n\\nThe code would yield:\\n- \"Author A\"\\n- \"Author B\"\\n\\nEach author will only appear once in the output due to the use of a set. Thus, this code effectively filters and yields unique authors from a collection of books.'"
      ]
     },
     "execution_count": 38,
     "metadata": {},
     "output_type": "execute_result"
    }
   ],
   "source": [
    "get_answer(question)"
   ]
  },
  {
   "cell_type": "code",
   "execution_count": 8,
   "id": "8f7c8ea8-4082-4ad0-8751-3301adcf6538",
   "metadata": {},
   "outputs": [],
   "source": [
    "# Get Llama 3.2 to answer"
   ]
  },
  {
   "cell_type": "code",
   "execution_count": null,
   "id": "057e28c6-eb2e-42ac-bcd3-89f9ec2428f1",
   "metadata": {},
   "outputs": [],
   "source": []
  }
 ],
 "metadata": {
  "kernelspec": {
   "display_name": "Python 3 (ipykernel)",
   "language": "python",
   "name": "python3"
  },
  "language_info": {
   "codemirror_mode": {
    "name": "ipython",
    "version": 3
   },
   "file_extension": ".py",
   "mimetype": "text/x-python",
   "name": "python",
   "nbconvert_exporter": "python",
   "pygments_lexer": "ipython3",
   "version": "3.11.11"
  }
 },
 "nbformat": 4,
 "nbformat_minor": 5
}
